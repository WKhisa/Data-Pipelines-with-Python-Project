{
  "nbformat": 4,
  "nbformat_minor": 0,
  "metadata": {
    "colab": {
      "provenance": [],
      "authorship_tag": "ABX9TyNsfEwhgOiGeEWMlCPbIKxu",
      "include_colab_link": true
    },
    "kernelspec": {
      "name": "python3",
      "display_name": "Python 3"
    },
    "language_info": {
      "name": "python"
    }
  },
  "cells": [
    {
      "cell_type": "markdown",
      "metadata": {
        "id": "view-in-github",
        "colab_type": "text"
      },
      "source": [
        "<a href=\"https://colab.research.google.com/github/WKhisa/Data-Pipelines-with-Python-Project/blob/main/Data_Pipelines_with_Python_IP.ipynb\" target=\"_parent\"><img src=\"https://colab.research.google.com/assets/colab-badge.svg\" alt=\"Open In Colab\"/></a>"
      ]
    },
    {
      "cell_type": "code",
      "source": [
        "#Prerequisites\n",
        "import pandas as pd\n",
        "import zipfile \n",
        "from zipfile import ZipFile"
      ],
      "metadata": {
        "id": "FBt83HiVhOjo"
      },
      "execution_count": 1,
      "outputs": []
    },
    {
      "cell_type": "markdown",
      "source": [
        "DATA EXTRACTION"
      ],
      "metadata": {
        "id": "F2ki5y_JsN57"
      }
    },
    {
      "cell_type": "code",
      "source": [
        "#Read CSV file names within the Zipped File\n",
        "with ZipFile('dataset1_202302.zip', 'r') as zip:\n",
        "    zip.printdir()    "
      ],
      "metadata": {
        "colab": {
          "base_uri": "https://localhost:8080/"
        },
        "id": "L6Et4KzehmdQ",
        "outputId": "f8b2e13a-5a58-4eb1-c5b3-23a72b5dfa0c"
      },
      "execution_count": 3,
      "outputs": [
        {
          "output_type": "stream",
          "name": "stdout",
          "text": [
            "File Name                                             Modified             Size\n",
            "dataset2.csv                                   2023-04-15 10:36:20          738\n",
            "dataset1.csv                                   2023-04-15 10:36:20          805\n",
            "dataset3.csv                                   2023-04-15 10:36:20          706\n"
          ]
        }
      ]
    },
    {
      "cell_type": "code",
      "source": [
        "#Create Base FIles\n",
        "zipped_file = ZipFile('dataset1_202302.zip')\n",
        "dataset1_df = pd.read_csv(zipped_file.open(\"dataset1.csv\"))\n",
        "dataset2_df = pd.read_csv(zipped_file.open(\"dataset2.csv\"))\n",
        "dataset3_df = pd.read_csv(zipped_file.open(\"dataset3.csv\"))\n",
        "\n",
        "print(dataset1_df.head())\n",
        "print(dataset2_df.head())\n",
        "print(dataset3_df.head())\n",
        "\n"
      ],
      "metadata": {
        "colab": {
          "base_uri": "https://localhost:8080/"
        },
        "id": "nT7G_3WLnkWn",
        "outputId": "2905991d-90af-4a4b-81c3-a5909e67a57a"
      },
      "execution_count": 4,
      "outputs": [
        {
          "output_type": "stream",
          "name": "stdout",
          "text": [
            "   customer_id date_of_purchase  total_amount_billed payment_status  \\\n",
            "0          101       04/01/2021                  100           paid   \n",
            "1          102       04/02/2021                  200           paid   \n",
            "2          103       04/02/2021                   50        overdue   \n",
            "3          104       04/03/2021                   75       disputed   \n",
            "4          105       04/04/2021                  125           paid   \n",
            "\n",
            "  payment_method promo_code country_of_purchase  \n",
            "0    credit card     PROMO1                 USA  \n",
            "1  bank transfer     PROMO2                 USA  \n",
            "2    credit card        NaN                  UK  \n",
            "3       e-wallet     PROMO3                  UK  \n",
            "4    credit card     PROMO4                 USA  \n",
            "   customer_id date_of_payment  amount_paid payment_method payment_status  \\\n",
            "0          101      04/01/2021          100    credit card           paid   \n",
            "1          102      04/03/2021          200  bank transfer           paid   \n",
            "2          103      04/03/2021           75    credit card           paid   \n",
            "3          104      04/04/2021           50       e-wallet        overdue   \n",
            "4          105      04/05/2021          125    credit card           paid   \n",
            "\n",
            "   late_payment_fee country_of_payment  \n",
            "0                 0                USA  \n",
            "1                 0                USA  \n",
            "2                10                 UK  \n",
            "3                 0                 UK  \n",
            "4                 0                USA  \n",
            "   customer_id date_of_refund  refund_amount         reason_for_refund  \\\n",
            "0          101     04/03/2021            100  product not as described   \n",
            "1          102     04/06/2021            200         defective product   \n",
            "2          103     04/07/2021             75            change of mind   \n",
            "3          104     04/08/2021             50      product not received   \n",
            "4          105     04/09/2021             25  product not as described   \n",
            "\n",
            "  country_of_refund  \n",
            "0               USA  \n",
            "1               USA  \n",
            "2                UK  \n",
            "3                UK  \n",
            "4               USA  \n"
          ]
        }
      ]
    },
    {
      "cell_type": "code",
      "source": [
        "dataset1_df.shape\n",
        "dataset2_df.shape\n",
        "dataset3_df.shape"
      ],
      "metadata": {
        "colab": {
          "base_uri": "https://localhost:8080/"
        },
        "id": "Dyscis9d0aZN",
        "outputId": "096c1a58-2a25-482b-882e-71e10df6d682"
      },
      "execution_count": 57,
      "outputs": [
        {
          "output_type": "execute_result",
          "data": {
            "text/plain": [
              "(15, 5)"
            ]
          },
          "metadata": {},
          "execution_count": 57
        }
      ]
    },
    {
      "cell_type": "code",
      "source": [
        "print(dataset1_df.columns, dataset2_df.columns,dataset3_df.columns )"
      ],
      "metadata": {
        "colab": {
          "base_uri": "https://localhost:8080/"
        },
        "id": "fdYaCs6H1J_x",
        "outputId": "300fc2c3-cc21-45d9-eccd-28d36fee2002"
      },
      "execution_count": 5,
      "outputs": [
        {
          "output_type": "stream",
          "name": "stdout",
          "text": [
            "Index(['customer_id', 'date_of_purchase', 'total_amount_billed',\n",
            "       'payment_status', 'payment_method', 'promo_code',\n",
            "       'country_of_purchase'],\n",
            "      dtype='object') Index(['customer_id', 'date_of_payment', 'amount_paid', 'payment_method',\n",
            "       'payment_status', 'late_payment_fee', 'country_of_payment'],\n",
            "      dtype='object') Index(['customer_id', 'date_of_refund', 'refund_amount', 'reason_for_refund',\n",
            "       'country_of_refund'],\n",
            "      dtype='object')\n"
          ]
        }
      ]
    },
    {
      "cell_type": "markdown",
      "source": [
        "TRANSFORMATION\n",
        "-Join the data sets\n",
        "-Clean the data set\n"
      ],
      "metadata": {
        "id": "iCz3vCY7sM92"
      }
    },
    {
      "cell_type": "code",
      "source": [
        "#Merge DataFrames\n",
        "merged_dataset_df = pd.merge(dataset1_df, dataset2_df, on = ['customer_id']).merge(dataset3_df, on = ['customer_id'])\n",
        "merged_dataset_df.head()\n"
      ],
      "metadata": {
        "colab": {
          "base_uri": "https://localhost:8080/",
          "height": 305
        },
        "id": "N1MEH7mJsXoa",
        "outputId": "2ac3881b-5886-48e4-fb1a-6f3ef5fb1c61"
      },
      "execution_count": 21,
      "outputs": [
        {
          "output_type": "execute_result",
          "data": {
            "text/plain": [
              "   customer_id date_of_purchase  total_amount_billed payment_status_x  \\\n",
              "0          101       04/01/2021                  100             paid   \n",
              "1          102       04/02/2021                  200             paid   \n",
              "2          103       04/02/2021                   50          overdue   \n",
              "3          104       04/03/2021                   75         disputed   \n",
              "4          105       04/04/2021                  125             paid   \n",
              "\n",
              "  payment_method_x promo_code country_of_purchase date_of_payment  \\\n",
              "0      credit card     PROMO1                 USA      04/01/2021   \n",
              "1    bank transfer     PROMO2                 USA      04/03/2021   \n",
              "2      credit card        NaN                  UK      04/03/2021   \n",
              "3         e-wallet     PROMO3                  UK      04/04/2021   \n",
              "4      credit card     PROMO4                 USA      04/05/2021   \n",
              "\n",
              "   amount_paid payment_method_y payment_status_y  late_payment_fee  \\\n",
              "0          100      credit card             paid                 0   \n",
              "1          200    bank transfer             paid                 0   \n",
              "2           75      credit card             paid                10   \n",
              "3           50         e-wallet          overdue                 0   \n",
              "4          125      credit card             paid                 0   \n",
              "\n",
              "  country_of_payment date_of_refund  refund_amount         reason_for_refund  \\\n",
              "0                USA     04/03/2021            100  product not as described   \n",
              "1                USA     04/06/2021            200         defective product   \n",
              "2                 UK     04/07/2021             75            change of mind   \n",
              "3                 UK     04/08/2021             50      product not received   \n",
              "4                USA     04/09/2021             25  product not as described   \n",
              "\n",
              "  country_of_refund  \n",
              "0               USA  \n",
              "1               USA  \n",
              "2                UK  \n",
              "3                UK  \n",
              "4               USA  "
            ],
            "text/html": [
              "\n",
              "  <div id=\"df-0abc3308-af93-42aa-b296-f1b6182fe45d\">\n",
              "    <div class=\"colab-df-container\">\n",
              "      <div>\n",
              "<style scoped>\n",
              "    .dataframe tbody tr th:only-of-type {\n",
              "        vertical-align: middle;\n",
              "    }\n",
              "\n",
              "    .dataframe tbody tr th {\n",
              "        vertical-align: top;\n",
              "    }\n",
              "\n",
              "    .dataframe thead th {\n",
              "        text-align: right;\n",
              "    }\n",
              "</style>\n",
              "<table border=\"1\" class=\"dataframe\">\n",
              "  <thead>\n",
              "    <tr style=\"text-align: right;\">\n",
              "      <th></th>\n",
              "      <th>customer_id</th>\n",
              "      <th>date_of_purchase</th>\n",
              "      <th>total_amount_billed</th>\n",
              "      <th>payment_status_x</th>\n",
              "      <th>payment_method_x</th>\n",
              "      <th>promo_code</th>\n",
              "      <th>country_of_purchase</th>\n",
              "      <th>date_of_payment</th>\n",
              "      <th>amount_paid</th>\n",
              "      <th>payment_method_y</th>\n",
              "      <th>payment_status_y</th>\n",
              "      <th>late_payment_fee</th>\n",
              "      <th>country_of_payment</th>\n",
              "      <th>date_of_refund</th>\n",
              "      <th>refund_amount</th>\n",
              "      <th>reason_for_refund</th>\n",
              "      <th>country_of_refund</th>\n",
              "    </tr>\n",
              "  </thead>\n",
              "  <tbody>\n",
              "    <tr>\n",
              "      <th>0</th>\n",
              "      <td>101</td>\n",
              "      <td>04/01/2021</td>\n",
              "      <td>100</td>\n",
              "      <td>paid</td>\n",
              "      <td>credit card</td>\n",
              "      <td>PROMO1</td>\n",
              "      <td>USA</td>\n",
              "      <td>04/01/2021</td>\n",
              "      <td>100</td>\n",
              "      <td>credit card</td>\n",
              "      <td>paid</td>\n",
              "      <td>0</td>\n",
              "      <td>USA</td>\n",
              "      <td>04/03/2021</td>\n",
              "      <td>100</td>\n",
              "      <td>product not as described</td>\n",
              "      <td>USA</td>\n",
              "    </tr>\n",
              "    <tr>\n",
              "      <th>1</th>\n",
              "      <td>102</td>\n",
              "      <td>04/02/2021</td>\n",
              "      <td>200</td>\n",
              "      <td>paid</td>\n",
              "      <td>bank transfer</td>\n",
              "      <td>PROMO2</td>\n",
              "      <td>USA</td>\n",
              "      <td>04/03/2021</td>\n",
              "      <td>200</td>\n",
              "      <td>bank transfer</td>\n",
              "      <td>paid</td>\n",
              "      <td>0</td>\n",
              "      <td>USA</td>\n",
              "      <td>04/06/2021</td>\n",
              "      <td>200</td>\n",
              "      <td>defective product</td>\n",
              "      <td>USA</td>\n",
              "    </tr>\n",
              "    <tr>\n",
              "      <th>2</th>\n",
              "      <td>103</td>\n",
              "      <td>04/02/2021</td>\n",
              "      <td>50</td>\n",
              "      <td>overdue</td>\n",
              "      <td>credit card</td>\n",
              "      <td>NaN</td>\n",
              "      <td>UK</td>\n",
              "      <td>04/03/2021</td>\n",
              "      <td>75</td>\n",
              "      <td>credit card</td>\n",
              "      <td>paid</td>\n",
              "      <td>10</td>\n",
              "      <td>UK</td>\n",
              "      <td>04/07/2021</td>\n",
              "      <td>75</td>\n",
              "      <td>change of mind</td>\n",
              "      <td>UK</td>\n",
              "    </tr>\n",
              "    <tr>\n",
              "      <th>3</th>\n",
              "      <td>104</td>\n",
              "      <td>04/03/2021</td>\n",
              "      <td>75</td>\n",
              "      <td>disputed</td>\n",
              "      <td>e-wallet</td>\n",
              "      <td>PROMO3</td>\n",
              "      <td>UK</td>\n",
              "      <td>04/04/2021</td>\n",
              "      <td>50</td>\n",
              "      <td>e-wallet</td>\n",
              "      <td>overdue</td>\n",
              "      <td>0</td>\n",
              "      <td>UK</td>\n",
              "      <td>04/08/2021</td>\n",
              "      <td>50</td>\n",
              "      <td>product not received</td>\n",
              "      <td>UK</td>\n",
              "    </tr>\n",
              "    <tr>\n",
              "      <th>4</th>\n",
              "      <td>105</td>\n",
              "      <td>04/04/2021</td>\n",
              "      <td>125</td>\n",
              "      <td>paid</td>\n",
              "      <td>credit card</td>\n",
              "      <td>PROMO4</td>\n",
              "      <td>USA</td>\n",
              "      <td>04/05/2021</td>\n",
              "      <td>125</td>\n",
              "      <td>credit card</td>\n",
              "      <td>paid</td>\n",
              "      <td>0</td>\n",
              "      <td>USA</td>\n",
              "      <td>04/09/2021</td>\n",
              "      <td>25</td>\n",
              "      <td>product not as described</td>\n",
              "      <td>USA</td>\n",
              "    </tr>\n",
              "  </tbody>\n",
              "</table>\n",
              "</div>\n",
              "      <button class=\"colab-df-convert\" onclick=\"convertToInteractive('df-0abc3308-af93-42aa-b296-f1b6182fe45d')\"\n",
              "              title=\"Convert this dataframe to an interactive table.\"\n",
              "              style=\"display:none;\">\n",
              "        \n",
              "  <svg xmlns=\"http://www.w3.org/2000/svg\" height=\"24px\"viewBox=\"0 0 24 24\"\n",
              "       width=\"24px\">\n",
              "    <path d=\"M0 0h24v24H0V0z\" fill=\"none\"/>\n",
              "    <path d=\"M18.56 5.44l.94 2.06.94-2.06 2.06-.94-2.06-.94-.94-2.06-.94 2.06-2.06.94zm-11 1L8.5 8.5l.94-2.06 2.06-.94-2.06-.94L8.5 2.5l-.94 2.06-2.06.94zm10 10l.94 2.06.94-2.06 2.06-.94-2.06-.94-.94-2.06-.94 2.06-2.06.94z\"/><path d=\"M17.41 7.96l-1.37-1.37c-.4-.4-.92-.59-1.43-.59-.52 0-1.04.2-1.43.59L10.3 9.45l-7.72 7.72c-.78.78-.78 2.05 0 2.83L4 21.41c.39.39.9.59 1.41.59.51 0 1.02-.2 1.41-.59l7.78-7.78 2.81-2.81c.8-.78.8-2.07 0-2.86zM5.41 20L4 18.59l7.72-7.72 1.47 1.35L5.41 20z\"/>\n",
              "  </svg>\n",
              "      </button>\n",
              "      \n",
              "  <style>\n",
              "    .colab-df-container {\n",
              "      display:flex;\n",
              "      flex-wrap:wrap;\n",
              "      gap: 12px;\n",
              "    }\n",
              "\n",
              "    .colab-df-convert {\n",
              "      background-color: #E8F0FE;\n",
              "      border: none;\n",
              "      border-radius: 50%;\n",
              "      cursor: pointer;\n",
              "      display: none;\n",
              "      fill: #1967D2;\n",
              "      height: 32px;\n",
              "      padding: 0 0 0 0;\n",
              "      width: 32px;\n",
              "    }\n",
              "\n",
              "    .colab-df-convert:hover {\n",
              "      background-color: #E2EBFA;\n",
              "      box-shadow: 0px 1px 2px rgba(60, 64, 67, 0.3), 0px 1px 3px 1px rgba(60, 64, 67, 0.15);\n",
              "      fill: #174EA6;\n",
              "    }\n",
              "\n",
              "    [theme=dark] .colab-df-convert {\n",
              "      background-color: #3B4455;\n",
              "      fill: #D2E3FC;\n",
              "    }\n",
              "\n",
              "    [theme=dark] .colab-df-convert:hover {\n",
              "      background-color: #434B5C;\n",
              "      box-shadow: 0px 1px 3px 1px rgba(0, 0, 0, 0.15);\n",
              "      filter: drop-shadow(0px 1px 2px rgba(0, 0, 0, 0.3));\n",
              "      fill: #FFFFFF;\n",
              "    }\n",
              "  </style>\n",
              "\n",
              "      <script>\n",
              "        const buttonEl =\n",
              "          document.querySelector('#df-0abc3308-af93-42aa-b296-f1b6182fe45d button.colab-df-convert');\n",
              "        buttonEl.style.display =\n",
              "          google.colab.kernel.accessAllowed ? 'block' : 'none';\n",
              "\n",
              "        async function convertToInteractive(key) {\n",
              "          const element = document.querySelector('#df-0abc3308-af93-42aa-b296-f1b6182fe45d');\n",
              "          const dataTable =\n",
              "            await google.colab.kernel.invokeFunction('convertToInteractive',\n",
              "                                                     [key], {});\n",
              "          if (!dataTable) return;\n",
              "\n",
              "          const docLinkHtml = 'Like what you see? Visit the ' +\n",
              "            '<a target=\"_blank\" href=https://colab.research.google.com/notebooks/data_table.ipynb>data table notebook</a>'\n",
              "            + ' to learn more about interactive tables.';\n",
              "          element.innerHTML = '';\n",
              "          dataTable['output_type'] = 'display_data';\n",
              "          await google.colab.output.renderOutput(dataTable, element);\n",
              "          const docLink = document.createElement('div');\n",
              "          docLink.innerHTML = docLinkHtml;\n",
              "          element.appendChild(docLink);\n",
              "        }\n",
              "      </script>\n",
              "    </div>\n",
              "  </div>\n",
              "  "
            ]
          },
          "metadata": {},
          "execution_count": 21
        }
      ]
    },
    {
      "cell_type": "code",
      "source": [
        "#Drop Columns not required\n",
        "merged_dataset_df.drop(columns =['payment_status_x', 'payment_method_x', 'promo_code', \n",
        "       'payment_method_y', 'payment_status_y'], inplace = True)\n",
        "merged_dataset_df.head()"
      ],
      "metadata": {
        "colab": {
          "base_uri": "https://localhost:8080/",
          "height": 305
        },
        "id": "O6MLhJWjmCcs",
        "outputId": "69c8166b-6bae-4ccd-a4c0-8e5d5bfe6153"
      },
      "execution_count": 22,
      "outputs": [
        {
          "output_type": "execute_result",
          "data": {
            "text/plain": [
              "   customer_id date_of_purchase  total_amount_billed country_of_purchase  \\\n",
              "0          101       04/01/2021                  100                 USA   \n",
              "1          102       04/02/2021                  200                 USA   \n",
              "2          103       04/02/2021                   50                  UK   \n",
              "3          104       04/03/2021                   75                  UK   \n",
              "4          105       04/04/2021                  125                 USA   \n",
              "\n",
              "  date_of_payment  amount_paid  late_payment_fee country_of_payment  \\\n",
              "0      04/01/2021          100                 0                USA   \n",
              "1      04/03/2021          200                 0                USA   \n",
              "2      04/03/2021           75                10                 UK   \n",
              "3      04/04/2021           50                 0                 UK   \n",
              "4      04/05/2021          125                 0                USA   \n",
              "\n",
              "  date_of_refund  refund_amount         reason_for_refund country_of_refund  \n",
              "0     04/03/2021            100  product not as described               USA  \n",
              "1     04/06/2021            200         defective product               USA  \n",
              "2     04/07/2021             75            change of mind                UK  \n",
              "3     04/08/2021             50      product not received                UK  \n",
              "4     04/09/2021             25  product not as described               USA  "
            ],
            "text/html": [
              "\n",
              "  <div id=\"df-183f939d-6dea-4887-a893-d4e4be14f79d\">\n",
              "    <div class=\"colab-df-container\">\n",
              "      <div>\n",
              "<style scoped>\n",
              "    .dataframe tbody tr th:only-of-type {\n",
              "        vertical-align: middle;\n",
              "    }\n",
              "\n",
              "    .dataframe tbody tr th {\n",
              "        vertical-align: top;\n",
              "    }\n",
              "\n",
              "    .dataframe thead th {\n",
              "        text-align: right;\n",
              "    }\n",
              "</style>\n",
              "<table border=\"1\" class=\"dataframe\">\n",
              "  <thead>\n",
              "    <tr style=\"text-align: right;\">\n",
              "      <th></th>\n",
              "      <th>customer_id</th>\n",
              "      <th>date_of_purchase</th>\n",
              "      <th>total_amount_billed</th>\n",
              "      <th>country_of_purchase</th>\n",
              "      <th>date_of_payment</th>\n",
              "      <th>amount_paid</th>\n",
              "      <th>late_payment_fee</th>\n",
              "      <th>country_of_payment</th>\n",
              "      <th>date_of_refund</th>\n",
              "      <th>refund_amount</th>\n",
              "      <th>reason_for_refund</th>\n",
              "      <th>country_of_refund</th>\n",
              "    </tr>\n",
              "  </thead>\n",
              "  <tbody>\n",
              "    <tr>\n",
              "      <th>0</th>\n",
              "      <td>101</td>\n",
              "      <td>04/01/2021</td>\n",
              "      <td>100</td>\n",
              "      <td>USA</td>\n",
              "      <td>04/01/2021</td>\n",
              "      <td>100</td>\n",
              "      <td>0</td>\n",
              "      <td>USA</td>\n",
              "      <td>04/03/2021</td>\n",
              "      <td>100</td>\n",
              "      <td>product not as described</td>\n",
              "      <td>USA</td>\n",
              "    </tr>\n",
              "    <tr>\n",
              "      <th>1</th>\n",
              "      <td>102</td>\n",
              "      <td>04/02/2021</td>\n",
              "      <td>200</td>\n",
              "      <td>USA</td>\n",
              "      <td>04/03/2021</td>\n",
              "      <td>200</td>\n",
              "      <td>0</td>\n",
              "      <td>USA</td>\n",
              "      <td>04/06/2021</td>\n",
              "      <td>200</td>\n",
              "      <td>defective product</td>\n",
              "      <td>USA</td>\n",
              "    </tr>\n",
              "    <tr>\n",
              "      <th>2</th>\n",
              "      <td>103</td>\n",
              "      <td>04/02/2021</td>\n",
              "      <td>50</td>\n",
              "      <td>UK</td>\n",
              "      <td>04/03/2021</td>\n",
              "      <td>75</td>\n",
              "      <td>10</td>\n",
              "      <td>UK</td>\n",
              "      <td>04/07/2021</td>\n",
              "      <td>75</td>\n",
              "      <td>change of mind</td>\n",
              "      <td>UK</td>\n",
              "    </tr>\n",
              "    <tr>\n",
              "      <th>3</th>\n",
              "      <td>104</td>\n",
              "      <td>04/03/2021</td>\n",
              "      <td>75</td>\n",
              "      <td>UK</td>\n",
              "      <td>04/04/2021</td>\n",
              "      <td>50</td>\n",
              "      <td>0</td>\n",
              "      <td>UK</td>\n",
              "      <td>04/08/2021</td>\n",
              "      <td>50</td>\n",
              "      <td>product not received</td>\n",
              "      <td>UK</td>\n",
              "    </tr>\n",
              "    <tr>\n",
              "      <th>4</th>\n",
              "      <td>105</td>\n",
              "      <td>04/04/2021</td>\n",
              "      <td>125</td>\n",
              "      <td>USA</td>\n",
              "      <td>04/05/2021</td>\n",
              "      <td>125</td>\n",
              "      <td>0</td>\n",
              "      <td>USA</td>\n",
              "      <td>04/09/2021</td>\n",
              "      <td>25</td>\n",
              "      <td>product not as described</td>\n",
              "      <td>USA</td>\n",
              "    </tr>\n",
              "  </tbody>\n",
              "</table>\n",
              "</div>\n",
              "      <button class=\"colab-df-convert\" onclick=\"convertToInteractive('df-183f939d-6dea-4887-a893-d4e4be14f79d')\"\n",
              "              title=\"Convert this dataframe to an interactive table.\"\n",
              "              style=\"display:none;\">\n",
              "        \n",
              "  <svg xmlns=\"http://www.w3.org/2000/svg\" height=\"24px\"viewBox=\"0 0 24 24\"\n",
              "       width=\"24px\">\n",
              "    <path d=\"M0 0h24v24H0V0z\" fill=\"none\"/>\n",
              "    <path d=\"M18.56 5.44l.94 2.06.94-2.06 2.06-.94-2.06-.94-.94-2.06-.94 2.06-2.06.94zm-11 1L8.5 8.5l.94-2.06 2.06-.94-2.06-.94L8.5 2.5l-.94 2.06-2.06.94zm10 10l.94 2.06.94-2.06 2.06-.94-2.06-.94-.94-2.06-.94 2.06-2.06.94z\"/><path d=\"M17.41 7.96l-1.37-1.37c-.4-.4-.92-.59-1.43-.59-.52 0-1.04.2-1.43.59L10.3 9.45l-7.72 7.72c-.78.78-.78 2.05 0 2.83L4 21.41c.39.39.9.59 1.41.59.51 0 1.02-.2 1.41-.59l7.78-7.78 2.81-2.81c.8-.78.8-2.07 0-2.86zM5.41 20L4 18.59l7.72-7.72 1.47 1.35L5.41 20z\"/>\n",
              "  </svg>\n",
              "      </button>\n",
              "      \n",
              "  <style>\n",
              "    .colab-df-container {\n",
              "      display:flex;\n",
              "      flex-wrap:wrap;\n",
              "      gap: 12px;\n",
              "    }\n",
              "\n",
              "    .colab-df-convert {\n",
              "      background-color: #E8F0FE;\n",
              "      border: none;\n",
              "      border-radius: 50%;\n",
              "      cursor: pointer;\n",
              "      display: none;\n",
              "      fill: #1967D2;\n",
              "      height: 32px;\n",
              "      padding: 0 0 0 0;\n",
              "      width: 32px;\n",
              "    }\n",
              "\n",
              "    .colab-df-convert:hover {\n",
              "      background-color: #E2EBFA;\n",
              "      box-shadow: 0px 1px 2px rgba(60, 64, 67, 0.3), 0px 1px 3px 1px rgba(60, 64, 67, 0.15);\n",
              "      fill: #174EA6;\n",
              "    }\n",
              "\n",
              "    [theme=dark] .colab-df-convert {\n",
              "      background-color: #3B4455;\n",
              "      fill: #D2E3FC;\n",
              "    }\n",
              "\n",
              "    [theme=dark] .colab-df-convert:hover {\n",
              "      background-color: #434B5C;\n",
              "      box-shadow: 0px 1px 3px 1px rgba(0, 0, 0, 0.15);\n",
              "      filter: drop-shadow(0px 1px 2px rgba(0, 0, 0, 0.3));\n",
              "      fill: #FFFFFF;\n",
              "    }\n",
              "  </style>\n",
              "\n",
              "      <script>\n",
              "        const buttonEl =\n",
              "          document.querySelector('#df-183f939d-6dea-4887-a893-d4e4be14f79d button.colab-df-convert');\n",
              "        buttonEl.style.display =\n",
              "          google.colab.kernel.accessAllowed ? 'block' : 'none';\n",
              "\n",
              "        async function convertToInteractive(key) {\n",
              "          const element = document.querySelector('#df-183f939d-6dea-4887-a893-d4e4be14f79d');\n",
              "          const dataTable =\n",
              "            await google.colab.kernel.invokeFunction('convertToInteractive',\n",
              "                                                     [key], {});\n",
              "          if (!dataTable) return;\n",
              "\n",
              "          const docLinkHtml = 'Like what you see? Visit the ' +\n",
              "            '<a target=\"_blank\" href=https://colab.research.google.com/notebooks/data_table.ipynb>data table notebook</a>'\n",
              "            + ' to learn more about interactive tables.';\n",
              "          element.innerHTML = '';\n",
              "          dataTable['output_type'] = 'display_data';\n",
              "          await google.colab.output.renderOutput(dataTable, element);\n",
              "          const docLink = document.createElement('div');\n",
              "          docLink.innerHTML = docLinkHtml;\n",
              "          element.appendChild(docLink);\n",
              "        }\n",
              "      </script>\n",
              "    </div>\n",
              "  </div>\n",
              "  "
            ]
          },
          "metadata": {},
          "execution_count": 22
        }
      ]
    },
    {
      "cell_type": "code",
      "source": [
        "#check missing values\n",
        "merged_dataset_df.isna().sum().sum()"
      ],
      "metadata": {
        "colab": {
          "base_uri": "https://localhost:8080/"
        },
        "id": "4CYeFloioFMD",
        "outputId": "95ec4307-fbf7-4237-b6ce-14c59c7d01d8"
      },
      "execution_count": 25,
      "outputs": [
        {
          "output_type": "execute_result",
          "data": {
            "text/plain": [
              "0"
            ]
          },
          "metadata": {},
          "execution_count": 25
        }
      ]
    },
    {
      "cell_type": "code",
      "source": [
        "#Transform Data\n",
        "merged_dataset_df.dtypes"
      ],
      "metadata": {
        "colab": {
          "base_uri": "https://localhost:8080/"
        },
        "id": "ppCkW6AppMCZ",
        "outputId": "fde6027b-1348-44ff-d23a-06ff26f166f7"
      },
      "execution_count": 45,
      "outputs": [
        {
          "output_type": "execute_result",
          "data": {
            "text/plain": [
              "customer_id              int64\n",
              "date_of_purchase        object\n",
              "total_amount_billed    float64\n",
              "country_of_purchase     object\n",
              "date_of_payment         object\n",
              "amount_paid            float64\n",
              "late_payment_fee       float64\n",
              "country_of_payment      object\n",
              "date_of_refund          object\n",
              "refund_amount          float64\n",
              "reason_for_refund       object\n",
              "country_of_refund       object\n",
              "dtype: object"
            ]
          },
          "metadata": {},
          "execution_count": 45
        }
      ]
    },
    {
      "cell_type": "code",
      "source": [
        "#convert relevant columns and float data types\n",
        "merged_dataset_df = merged_dataset_df.astype({'total_amount_billed':'float','amount_paid':'float','late_payment_fee':'float','refund_amount':'float'})\n",
        "merged_dataset_df.dtypes"
      ],
      "metadata": {
        "colab": {
          "base_uri": "https://localhost:8080/"
        },
        "id": "CRb-dCLQpo8c",
        "outputId": "fac794a7-e70c-45b9-d5fd-63d84ba34f75"
      },
      "execution_count": 30,
      "outputs": [
        {
          "output_type": "execute_result",
          "data": {
            "text/plain": [
              "customer_id              int64\n",
              "date_of_purchase        object\n",
              "total_amount_billed    float64\n",
              "country_of_purchase     object\n",
              "date_of_payment         object\n",
              "amount_paid            float64\n",
              "late_payment_fee       float64\n",
              "country_of_payment      object\n",
              "date_of_refund          object\n",
              "refund_amount          float64\n",
              "reason_for_refund       object\n",
              "country_of_refund       object\n",
              "dtype: object"
            ]
          },
          "metadata": {},
          "execution_count": 30
        }
      ]
    },
    {
      "cell_type": "code",
      "source": [
        "#transform date columns\n",
        "merged_dataset_df[['date_of_purchase', 'date_of_payment', 'date_of_refund']] = merged_dataset_df[['date_of_purchase','date_of_payment', 'date_of_refund']].astype('datetime64[ns]')\n",
        "merged_dataset_df.dtypes"
      ],
      "metadata": {
        "colab": {
          "base_uri": "https://localhost:8080/"
        },
        "id": "h9yu9yj3rcAE",
        "outputId": "db527bbb-1740-4cdf-e2e6-e73a06654e15"
      },
      "execution_count": 54,
      "outputs": [
        {
          "output_type": "execute_result",
          "data": {
            "text/plain": [
              "customer_id                     int64\n",
              "date_of_purchase       datetime64[ns]\n",
              "total_amount_billed           float64\n",
              "country_of_purchase            object\n",
              "date_of_payment        datetime64[ns]\n",
              "amount_paid                   float64\n",
              "late_payment_fee              float64\n",
              "country_of_payment             object\n",
              "date_of_refund         datetime64[ns]\n",
              "refund_amount                 float64\n",
              "reason_for_refund              object\n",
              "country_of_refund              object\n",
              "dtype: object"
            ]
          },
          "metadata": {},
          "execution_count": 54
        }
      ]
    },
    {
      "cell_type": "markdown",
      "source": [
        "Load data to CSV for analysis"
      ],
      "metadata": {
        "id": "M2PvfgSHzbQb"
      }
    },
    {
      "cell_type": "code",
      "source": [
        "#save dataframe as excel file\n",
        "filename= 'final.xlsx'\n",
        "merged_dataset_df.to_excel(filename)"
      ],
      "metadata": {
        "id": "9A-rpc14zj3V"
      },
      "execution_count": 56,
      "outputs": []
    }
  ]
}